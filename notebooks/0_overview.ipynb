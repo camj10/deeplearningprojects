{
 "cells": [
  {
   "cell_type": "markdown",
   "id": "0896d43b",
   "metadata": {},
   "source": [
    "# Proyecto ML Portfolio — IA Avanzada: Deep Learning\n",
    "\n",
    "Este cuaderno resume el plan del proyecto y enlaza a cada experimento.\n",
    "## Contenido\n",
    "1. **CNN** — Clasificación CIFAR-10\n",
    "2. **DCGAN** — Generación de imágenes 32x32\n",
    "3. **RAG (QA)** — Búsqueda + respuesta aumentada\n",
    "4. **LSTM** — Predicción de series temporales\n",
    "5. **Transformer** — Fine-tuning de clasificación en IMDB/SST-2\n"
   ]
  },
  {
   "cell_type": "markdown",
   "id": "ca885fa3",
   "metadata": {},
   "source": [
    "## Cómo ejecutar\n",
    "Sigue el orden de los notebooks `1_...` a `5_...`. Cada uno incluye secciones con H1/H2, código comentado y celdas de evaluación/visualización."
   ]
  }
 ],
 "metadata": {},
 "nbformat": 4,
 "nbformat_minor": 5
}
