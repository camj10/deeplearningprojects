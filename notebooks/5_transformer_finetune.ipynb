{
 "cells": [
  {
   "cell_type": "markdown",
   "id": "bd89b941",
   "metadata": {},
   "source": [
    "# Transformers — Clasificación de Texto\n",
    "### Utiliza: baseline portable (Keras IMDB)"
   ]
  },
  {
   "cell_type": "code",
   "execution_count": null,
   "id": "e42c6d25",
   "metadata": {},
   "outputs": [],
   "source": [
    "# configuración de carpeta raíz al path\n",
    "import sys, os\n",
    "sys.path.append(os.path.abspath(\"..\"))  "
   ]
  },
  {
   "cell_type": "markdown",
   "id": "49eb1327",
   "metadata": {},
   "source": [
    "1) Uso del imdb para clasificación"
   ]
  },
  {
   "cell_type": "code",
   "execution_count": null,
   "id": "85e29261",
   "metadata": {},
   "outputs": [
    {
     "name": "stderr",
     "output_type": "stream",
     "text": [
      "c:\\Users\\USER\\AppData\\Local\\Programs\\Python\\Python311\\Lib\\site-packages\\keras\\src\\layers\\core\\embedding.py:97: UserWarning: Argument `input_length` is deprecated. Just remove it.\n",
      "  warnings.warn(\n"
     ]
    },
    {
     "name": "stdout",
     "output_type": "stream",
     "text": [
      "Epoch 1/3\n",
      "176/176 - 96s - 547ms/step - accuracy: 0.7548 - loss: 0.5017 - val_accuracy: 0.8564 - val_loss: 0.3491\n",
      "Epoch 2/3\n",
      "176/176 - 92s - 525ms/step - accuracy: 0.9064 - loss: 0.2474 - val_accuracy: 0.8816 - val_loss: 0.2993\n",
      "Epoch 3/3\n",
      "176/176 - 93s - 531ms/step - accuracy: 0.9512 - loss: 0.1458 - val_accuracy: 0.8696 - val_loss: 0.3312\n",
      "782/782 - 40s - 51ms/step - accuracy: 0.8554 - loss: 0.3683\n"
     ]
    },
    {
     "data": {
      "text/plain": [
       "[0.36828047037124634, 0.8553599715232849]"
      ]
     },
     "execution_count": 2,
     "metadata": {},
     "output_type": "execute_result"
    }
   ],
   "source": [
    "import tensorflow as tf\n",
    "from src.data import get_imdb_tf\n",
    "from tensorflow.keras import layers\n",
    "\n",
    "(x_train, y_train), (x_test, y_test) = get_imdb_tf(num_words=20000, maxlen=256)\n",
    "vocab_size = 20000\n",
    "\n",
    "model = tf.keras.Sequential([\n",
    "    layers.Embedding(vocab_size, 128, input_length=256),\n",
    "    layers.Bidirectional(layers.LSTM(64, return_sequences=True)),\n",
    "    layers.Bidirectional(layers.LSTM(32)),\n",
    "    layers.Dropout(0.3),\n",
    "    layers.Dense(1, activation=\"sigmoid\")\n",
    "])\n",
    "model.compile(optimizer=\"adam\", loss=\"binary_crossentropy\", metrics=[\"accuracy\"])\n",
    "hist = model.fit(x_train, y_train, validation_split=0.1, epochs=3, batch_size=128, verbose=2)\n",
    "model.evaluate(x_test, y_test, verbose=2)\n"
   ]
  },
  {
   "cell_type": "markdown",
   "id": "38df2b79",
   "metadata": {},
   "source": [
    "2) Se guardan los resultados: curvas y resumen"
   ]
  },
  {
   "cell_type": "code",
   "execution_count": 3,
   "id": "d3004fd6",
   "metadata": {},
   "outputs": [
    {
     "name": "stdout",
     "output_type": "stream",
     "text": [
      "Resumen agregado a results/summary.csv\n"
     ]
    }
   ],
   "source": [
    "from src.metrics import save_history_curves, classification_report_tf, count_params\n",
    "from src.utils import append_summary_row, now_ts\n",
    "import os\n",
    "\n",
    "os.makedirs(\"../results/transformer\", exist_ok=True)\n",
    "save_history_curves(hist, \"../results/transformer/learning_curves.png\")\n",
    "rep = classification_report_tf(model, x_test, y_test, save_cm_path=\"../results/transformer/confusion_matrix.png\")\n",
    "\n",
    "append_summary_row(\"../results/summary.csv\", {\n",
    "    \"timestamp\": now_ts(),\n",
    "    \"module\": \"transformer\",\n",
    "    \"model\": \"BiLSTM-embed (baseline)\",\n",
    "    \"dataset\": \"IMDB (Keras)\",\n",
    "    \"accuracy\": rep[\"accuracy\"],\n",
    "    \"f1\": rep[\"f1\"],\n",
    "    \"loss\": \"\",\n",
    "    \"epochs\": len(hist.history.get(\"loss\", [])),\n",
    "    \"params\": int(count_params(model)),\n",
    "    \"train_time_s\": \"\",\n",
    "    \"notes\": \"Modelo baseline (Keras + BiLSTM)\"\n",
    "})\n",
    "print(\"Resumen agregado a results/summary.csv\")\n"
   ]
  }
 ],
 "metadata": {
  "kernelspec": {
   "display_name": "Python (myenv)",
   "language": "python",
   "name": "myenv"
  },
  "language_info": {
   "codemirror_mode": {
    "name": "ipython",
    "version": 3
   },
   "file_extension": ".py",
   "mimetype": "text/x-python",
   "name": "python",
   "nbconvert_exporter": "python",
   "pygments_lexer": "ipython3",
   "version": "3.11.5"
  }
 },
 "nbformat": 4,
 "nbformat_minor": 5
}
