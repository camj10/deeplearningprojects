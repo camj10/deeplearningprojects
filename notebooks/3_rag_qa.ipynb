{
 "cells": [
  {
   "cell_type": "markdown",
   "id": "82e52dd7",
   "metadata": {},
   "source": [
    "# RAG — QA sobre documentos que se basa en baseline local"
   ]
  },
  {
   "cell_type": "markdown",
   "id": "7c47b0ec",
   "metadata": {},
   "source": [
    "1) Ingesta de documentos y construcción de índice (TF-IDF o embeddings)\n",
    "Para que corra 100% local sin descargar modelos, uso TF-IDF como baseline."
   ]
  },
  {
   "cell_type": "code",
   "execution_count": null,
   "id": "8dd30e90",
   "metadata": {},
   "outputs": [],
   "source": [
    "# configuración de carpeta raíz al path\n",
    "import sys, os\n",
    "sys.path.append(os.path.abspath(\"..\"))  "
   ]
  },
  {
   "cell_type": "code",
   "execution_count": 2,
   "id": "5d57dc42",
   "metadata": {},
   "outputs": [
    {
     "data": {
      "text/plain": [
       "'Pregunta: ¿Qué es un transformer y para qué sirve un RAG?\\n\\nContexto:\\nEste es un documento de ejemplo sobre deep learning y transformers.\\n\\nOtro documento acerca de RAG: recuperación y generación con contexto.\\n\\nNotas de clase sobre CNN y GAN para visión por computadora.\\n\\nRespuesta (heurística): Basado en el contexto, la respuesta se relaciona con los temas recuperados arriba.'"
      ]
     },
     "execution_count": 2,
     "metadata": {},
     "output_type": "execute_result"
    }
   ],
   "source": [
    "import os, glob, re, json\n",
    "from sklearn.feature_extraction.text import TfidfVectorizer\n",
    "from sklearn.metrics.pairwise import cosine_similarity\n",
    "import numpy as np\n",
    "\n",
    "DOC_DIR = \"../assets\"\n",
    "docs = []\n",
    "paths = []\n",
    "for p in glob.glob(os.path.join(DOC_DIR, \"*.txt\")):\n",
    "    with open(p, \"r\", encoding=\"utf-8\", errors=\"ignore\") as f:\n",
    "        docs.append(f.read())\n",
    "        paths.append(p)\n",
    "\n",
    "if not docs:\n",
    "    docs = [\"Este es un documento de ejemplo sobre deep learning y transformers.\",\n",
    "            \"Otro documento acerca de RAG: recuperación y generación con contexto.\",\n",
    "            \"Notas de clase sobre CNN y GAN para visión por computadora.\"]\n",
    "    paths = [\"demo1.txt\",\"demo2.txt\",\"demo3.txt\"]\n",
    "\n",
    "vectorizer = TfidfVectorizer(max_features=5000)\n",
    "X = vectorizer.fit_transform(docs)\n",
    "\n",
    "def retrieve(query, k=3):\n",
    "    qv = vectorizer.transform([query])\n",
    "    sims = cosine_similarity(qv, X).ravel()\n",
    "    idx = np.argsort(-sims)[:k]\n",
    "    return [(paths[i], sims[i], docs[i][:500]) for i in idx]\n",
    "\n",
    "def answer(query):\n",
    "    ctx = retrieve(query, k=3)\n",
    "    # Generador simple: concatenar contexto más relevante\n",
    "    context_text = \"\\n\\n\".join([c[2] for c in ctx])\n",
    "    response = f\"Pregunta: {query}\\n\\nContexto:\\n{context_text}\\n\\nRespuesta (heurística): Basado en el contexto, la respuesta se relaciona con los temas recuperados arriba.\"\n",
    "    return ctx, response\n",
    "\n",
    "ctx, resp = answer(\"¿Qué es un transformer y para qué sirve un RAG?\")\n",
    "resp\n"
   ]
  },
  {
   "cell_type": "code",
   "execution_count": 3,
   "id": "f2346536",
   "metadata": {},
   "outputs": [
    {
     "name": "stdout",
     "output_type": "stream",
     "text": [
      "Guardado en results/rag/examples.jsonl\n"
     ]
    }
   ],
   "source": [
    "from src.utils import save_rag_example\n",
    "import os\n",
    "os.makedirs(\"../results/rag\", exist_ok=True)\n",
    "save_rag_example(\"../results/rag/examples.jsonl\", \"¿Qué es un transformer y para qué sirve un RAG?\", ctx, resp, correct=None)\n",
    "print(\"Guardado en results/rag/examples.jsonl\")\n"
   ]
  }
 ],
 "metadata": {
  "kernelspec": {
   "display_name": "Python (myenv)",
   "language": "python",
   "name": "myenv"
  },
  "language_info": {
   "codemirror_mode": {
    "name": "ipython",
    "version": 3
   },
   "file_extension": ".py",
   "mimetype": "text/x-python",
   "name": "python",
   "nbconvert_exporter": "python",
   "pygments_lexer": "ipython3",
   "version": "3.11.5"
  }
 },
 "nbformat": 4,
 "nbformat_minor": 5
}
